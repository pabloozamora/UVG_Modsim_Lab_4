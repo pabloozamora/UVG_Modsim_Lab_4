{
  "cells": [
    {
      "cell_type": "code",
      "source": [
        "from google.colab import output\n",
        "output.enable_custom_widget_manager()"
      ],
      "metadata": {
        "id": "dA2Mf0BOCBTj"
      },
      "execution_count": 69,
      "outputs": []
    },
    {
      "cell_type": "code",
      "source": [
        "%matplotlib widget\n",
        "\n",
        "import numpy as np\n",
        "import matplotlib.pyplot as plt\n",
        "import random\n",
        "import matplotlib.animation as animation\n",
        "from matplotlib.colors import LinearSegmentedColormap"
      ],
      "metadata": {
        "id": "FU8_GHh1FP8B"
      },
      "execution_count": 88,
      "outputs": []
    },
    {
      "cell_type": "code",
      "execution_count": 71,
      "metadata": {
        "id": "tdXLX4UeBbih"
      },
      "outputs": [],
      "source": [
        "\n",
        "# Función para inicializar el grid con celdas infectadas aleatoriamente\n",
        "def initialize_grid(M, N, infected_cells):\n",
        "    grid = np.zeros((M, N), dtype=int)  # Todas las celdas son susceptibles inicialmente (0)\n",
        "\n",
        "    # Elegir I0 celdas aleatorias para ser infectadas\n",
        "    for cell in infected_cells:\n",
        "        grid[cell] = 1  # Infectadas (estado 1)\n",
        "\n",
        "    return grid\n",
        "\n",
        "# Función para obtener la vecindad de una celda (i, j) con radio rad\n",
        "def get_neighborhood(grid, i, j, rad):\n",
        "    M, N = grid.shape\n",
        "    neighborhood = grid[max(0, i-rad):min(M, i+rad+1), max(0, j-rad):min(N, j+rad+1)]\n",
        "    return neighborhood\n",
        "\n",
        "# Función para ejecutar la simulación\n",
        "def simulate_sir(M, N, T, infected_cells, rad, beta, gamma):\n",
        "    grid = initialize_grid(M, N, infected_cells)\n",
        "    grid_history = []  # Historial del grid\n",
        "    population_counts = []  # Historial de S, I, R\n",
        "\n",
        "    for t in range(T):\n",
        "        new_grid = grid.copy()\n",
        "        S_count = 0\n",
        "        I_count = 0\n",
        "        R_count = 0\n",
        "\n",
        "        for i in range(M):\n",
        "            for j in range(N):\n",
        "                if grid[i, j] == 0:  # Susceptible\n",
        "                    neighborhood = get_neighborhood(grid, i, j, rad)\n",
        "                    infected_neighbors = np.sum(neighborhood == 1)\n",
        "                    total_neighbors = neighborhood.size\n",
        "\n",
        "                    # Probabilidad de infección\n",
        "                    if infected_neighbors > 0:\n",
        "                        infection_probability = beta * (infected_neighbors / total_neighbors)\n",
        "                        if random.random() < infection_probability:\n",
        "                            new_grid[i, j] = 1  # Infectar la celda\n",
        "\n",
        "                elif grid[i, j] == 1:  # Infectado\n",
        "                    # Probabilidad de recuperación\n",
        "                    if random.random() < gamma:\n",
        "                        new_grid[i, j] = 2  # Recuperar la celda\n",
        "\n",
        "        # Actualizar el grid y registrar las cantidades de S, I, R\n",
        "        grid = new_grid\n",
        "        S_count = np.sum(grid == 0)\n",
        "        I_count = np.sum(grid == 1)\n",
        "        R_count = np.sum(grid == 2)\n",
        "\n",
        "        grid_history.append(grid.copy())\n",
        "        population_counts.append((S_count, I_count, R_count))\n",
        "\n",
        "    return grid_history, population_counts\n",
        ""
      ]
    },
    {
      "cell_type": "code",
      "source": [
        "# Función para graficar el promedio de S, I, R\n",
        "def nexp_plot(S_avg, I_avg, R_avg, T, beta, gamma):\n",
        "    t = np.arange(T)\n",
        "    plt.figure(figsize=(10, 6))\n",
        "    plt.plot(t, S_avg, label=\"S(t) - Susceptibles\", color='blue')\n",
        "    plt.plot(t, I_avg, label=\"I(t) - Infectados\",color='green')\n",
        "    plt.plot(t, R_avg, label=\"R(t) - Recuperados\",color='red')\n",
        "    plt.title(f\"Resultados para β={beta}, γ={gamma}\")\n",
        "    plt.xlabel(\"Tiempo\")\n",
        "    plt.ylabel(\"Población\")\n",
        "    plt.legend()"
      ],
      "metadata": {
        "id": "0wbextYdHzx2"
      },
      "execution_count": 72,
      "outputs": []
    },
    {
      "cell_type": "code",
      "source": [
        "def run_experiments(Nexp, M, N, T, infected_positions, rad, beta, gamma):\n",
        "    all_grid_histories = np.zeros((Nexp, T, M, N), dtype=float)\n",
        "\n",
        "    for exp in range(Nexp):\n",
        "        grid_history, _ = simulate_sir(M, N, T, infected_positions, rad, beta, gamma)\n",
        "        all_grid_histories[exp] = np.array(grid_history)\n",
        "\n",
        "    # Calcular la dinámica espacial promedio\n",
        "    avg_grid_history = np.mean(all_grid_histories, axis=0)\n",
        "\n",
        "    return avg_grid_history\n"
      ],
      "metadata": {
        "id": "xhL94HKjKYk0"
      },
      "execution_count": 73,
      "outputs": []
    },
    {
      "cell_type": "code",
      "source": [
        "def generate_animated_avg_grid_video(avg_grid_history, output_filename=\"sir_simulation.mp4\"):\n",
        "    colors = ['purple', 'yellow', 'green'] # Morado: Susceptible, Amarillo: Infectado, Verde: Recuperado\n",
        "    cmap = LinearSegmentedColormap.from_list(\"SIR_cmap\", colors, N=256)\n",
        "\n",
        "    fig, ax = plt.subplots()\n",
        "    img = ax.imshow(avg_grid_history[0], cmap=cmap, vmin=0, vmax=2)\n",
        "\n",
        "    def update(frame):\n",
        "        img.set_data(avg_grid_history[frame])\n",
        "        ax.set_title(f'Día {frame}')\n",
        "        return [img]\n",
        "\n",
        "    ani = animation.FuncAnimation(fig, update, frames=len(avg_grid_history), blit=False)\n",
        "\n",
        "    # Guardar el video en formato mp4 usando ffmpeg\n",
        "    ani.save(output_filename, writer='ffmpeg', fps=5)\n",
        "    plt.show()"
      ],
      "metadata": {
        "id": "2aD51q6ZMNuH"
      },
      "execution_count": 89,
      "outputs": []
    },
    {
      "cell_type": "code",
      "execution_count": 102,
      "metadata": {
        "id": "w07HIW5rBbik"
      },
      "outputs": [],
      "source": [
        "# Parámetros del modelo\n",
        "M = 50  # Tamaño del grid en filas\n",
        "N = 50  # Tamaño del grid en columnas\n",
        "T = 100  # Tiempo de simulación\n",
        "infected_positions = [(10, 10), (20, 20), (30, 30), (15, 40), (49, 10)]  # Posiciones infectadas\n",
        "rad = 1  # Radio de interacción\n",
        "beta = 0.7  # Probabilidad de infección\n",
        "gamma = 0.25  # Probabilidad de recuperación\n",
        "Nexp = 10  # Número de experimentos\n",
        "\n",
        "\n",
        "avg_grid_history = run_experiments(Nexp, M, N, T, infected_positions, rad, beta, gamma)\n",
        "\n"
      ]
    },
    {
      "cell_type": "code",
      "source": [
        "generate_animated_avg_grid_video(avg_grid_history, \"sir_simulation_20.mp4\")"
      ],
      "metadata": {
        "colab": {
          "base_uri": "https://localhost:8080/",
          "height": 569,
          "referenced_widgets": [
            "fdc1a1e9a6d54d9e86d8e92f2464d330",
            "54bbaeebd2b4467d9436eea66839e1df",
            "a82b0d5652594c6f804c60238dc50b26",
            "de1a2f0e525241079b498efa1d3579aa"
          ]
        },
        "id": "S5sWaVbpMMon",
        "outputId": "0013f9c4-8c3e-41f4-f7d5-3374eeef39de"
      },
      "execution_count": 103,
      "outputs": [
        {
          "output_type": "display_data",
          "data": {
            "text/plain": [
              "Canvas(toolbar=Toolbar(toolitems=[('Home', 'Reset original view', 'home', 'home'), ('Back', 'Back to previous …"
            ],
            "image/png": "[encoded data removed]",
            "text/html": [
              "\n",
              "            <div style=\"display: inline-block;\">\n",
              "                <div class=\"jupyter-widgets widget-label\" style=\"text-align: center;\">\n",
              "                    Figure\n",
              "                </div>\n",
              "                <img src='data:image/png;base64,iVBORw0KGgoAAAANSUhEUgAAAoAAAAHgCAYAAAA10dzkAAAAOXRFWHRTb2Z0d2FyZQBNYXRwbG90bGliIHZlcnNpb24zLjcuMSwgaHR0cHM6Ly9tYXRwbG90bGliLm9yZy/bCgiHAAAACXBIWXMAAA9hAAAPYQGoP6dpAAAvqklEQVR4nO3df3BV5YHG8ScBkiBJLmLlXrIkLjtC0FpwkxTI6qiFVJYRq5VO66zTUmQn1QZGoPuj6VRssZ1Q3SriRhBlYHa7LF26SwXcSilK3LrAwo0w/qjBtlqjyQ11O9z8KElocvYP17tmyX0PnJOTk9z3+5nJTLnnvue85z0nmacnuY9ZjuM4AgAAgDWyw54AAAAAhhcBEAAAwDIEQAAAAMsQAAEAACxDAAQAALAMARAAAMAyBEAAAADLEAABAAAsQwAEAACwDAEQAADAMgRAAAAAyxAAAQAALEMABAAAsAwBEAAAwDIEQAAAAMsQAAEAACxDAAQAALAMARAAAMAyBEAAAADLEAABAAAsQwAEAACwDAEQAADAMgRAAAAAyxAAAQAALEMABAAAsAwBEAAAwDIEQAAAAMsQAAEAACxDAAQAALAMARAAAMAyBEAAAADLEAABAAAsQwAEAACwDAEQgFWefvppPfnkk2FPAwBCRQAEYI2f/vSnuueee1RaWhr2VAAgVARAAKPO9u3blZWVlfrKy8tTUVGRFi5cqI0bN6qjo+O8MV1dXaqurta3v/1t3XTTTUMyjwMHDuj666/XJZdcoksvvVSf+9zn9Pbbb5/3vs7OTq1atUpTp05Vbm6urrrqKm3atGlI5gAAXmQ5juOEPQkAuBjbt2/XsmXLtG7dOk2bNk3nzp1TIpHQoUOHdODAAZWUlGjPnj2aNWtWasx9992nU6dO6d///d+VlZXlew779u3TbbfdprKyMn3xi19Ue3u7HnvsMeXm5urll1/W5ZdfLknq6+vTDTfcoOPHj6umpkbTp0/X/v379cwzz+i73/2uvvGNb/ieCwBcLAIggFHnwwB47NgxVVRUDNj2/PPPa/HixZo8ebJ+8YtfaPz48YHM4eMf/7h6e3v12muvKScnR5J08uRJlZWVadWqVfr+978vSdq1a5c+//nPa+vWrbr77rtT4z/3uc/p2Wef1W9+8xtNnjw5kDkCQDr8ChhARpk/f77uv/9+/eY3v9EPfvCD1Ovf+ta3znvyt23bNs2fP1+TJ09Wbm6urr766gv61ezvfvc7vf766/rsZz+bCn+SNHv2bF111VXauXNn6rX/+I//kCTdeeedA/Zx5513qru7W88884yn8wQAPwiAADLOF7/4RUkffOjDZNOmTbriiiv0jW98Q9///vdVXFysr371q6qvrzeO6+npkaRBny5ecsklamlpUSKRSL13zJgxA4Lih++TpHg8fmEnBQBDaGzYEwCAoTZ16lRFIhH96le/Mr6voaFhQIhbsWKF/vzP/1yPPPKIampq0o6LRqOaOHGiXnrppQGv//d//7def/11SdJ7772nWCym0tJS9fX16ciRI7r++utT7/3wyeB777130ecHAH7xBBBARsrPzx/008Af9dHwl0wm9f777+vGG2/Ur3/9ayWTybTjsrOz9ZWvfEUHDx5UbW2t3nzzTcXjcX3+859Xb2+vJOns2bOSpL/4i79QJBLR3XffrQMHDujtt9/Wli1b9MQTTwx4HwAMJwIggIzU2dmpgoIC43teeuklVVVVacKECZo4caIuv/zy1KdyTQFQktatW6fly5froYce0owZM1RRUaGxY8dq+fLlkj4IoJIUi8W0Z88e9fT06Oabb9a0adP013/913r88ccHvA8AhhMBEEDGeffdd5VMJnXllVemfc+vfvUrLViwQO+//74eeeQRPfvsszpw4IBWr14tServ7zceIycnR08//bRaWlr04osvqqmpSfv371cymVR2dvaAY99www369a9/rZdfflk///nP9d5772nevHmSpBkzZgzBGQPAxeFvAAFknH/8x3+UJC1cuDDte/bu3auenh7t2bNHJSUlqddfeOGFizpWNBpVNBqV9EHn36FDhzR37tzznuyNGTNG1157berfP/vZzyRJVVVVF3U8ABgKBEAAGeX555/Xgw8+qGnTpumuu+5K+74xY8ZIkj5ahZpMJrVt2zbPx/67v/s7tba2pn69m85vf/tbfe9739OsWbMIgABCQQAEMGr95Cc/0RtvvKE//OEPamtr0/PPP68DBw7oiiuu0J49e5SXl5d27M0336ycnBzdeuut+spXvqLOzk499dRTmjx5slpbW12P/YMf/ED/+q//qhtuuEH5+fn62c9+pn/5l3/RX/7lX2rJkiUD3nvjjTeqsrJSV155pRKJhLZs2aLOzk7t27dP2dn8JQ6A4UcABDBqrV27VtIHf483adIkfeITn9CGDRu0bNky1w+AlJaW6kc/+pG++c1v6q/+6q8Ui8V077336vLLLx/wX+xIZ8aMGfrd736nBx98UGfPnlVpaak2b96s6urq895bXl6uXbt26b333lNhYaE+/elP68EHH9Sf/MmfeDtxAPCJ/xQcAACAZfjdAwAAgGUIgAAAAJYhAAIAAFiGAAgAAGAZAiAAAIBlCIAAAACWIQACAABYhiJoy9XX1+vhhx9WIpHQ7Nmz9fjjj2vOnDmu4/r7+9XS0qKCggJlZWUNw0wBAEPJcRx1dHSoqKiI/yKNhSiCttgPf/hDfelLX9LmzZs1d+5cbdiwQbt27VJTU5MmT55sHPvuu++quLh4mGYKAAhKc3Ozpk6dGvY0MMwIgBabO3euPvnJT+rv//7vJX3wVK+4uFgrV67U17/+dePYZDKpiRMnal/dJzQhb8x529tORgOZsySd2P6nabdFZycCO+5IM+VP3f97tUFofXlKIPttOxlLu83Pde1szTduz5/S6Wm/butvWifTuWJ0C+pnkJ97Jt2cuvt6VfvqDp05c0aRSMTz/jE68StgS/X29ioej6u2tjb1WnZ2tqqqqnT48OHz3t/T06Oenp7Uvzs6OiRJE/LGKH/8+QGwI2dcALP+QJ7y0m4bPyYnsOOONJcEuMYmQa1xUNf1D9m5xu3jx/R62q/b+pvmbDpXjG5hfH+4cZsTf8ZjJ37pb6n3339ffX19ikYHPqmLRqNKJM7/f4t1dXWKRCKpL379CwDA6EUAxAWpra1VMplMfTU3N4c9JQAA4BG/ArbUxz72MY0ZM0ZtbW0DXm9ra1Msdv7fmuTm5io31/yrNAAAMDoQAC2Vk5Oj8vJyHTx4ULfffrukDz4EcvDgQa1YseKC99N2Mjro3/tNKfP+AYX4lnLPYxONRWm3xcpaPO/XD9OcyqqPD+NMgldUYV7jluPero/bfpv2lKbdVlDUYRwb1D1j2i8wlML62YbRjQBosTVr1mjp0qWqqKjQnDlztGHDBnV1dWnZsmVhTw0AAASIAGixL3zhC/rtb3+rtWvXKpFI6Nprr9Vzzz133gdDAABAZiEAWm7FihUX9StfAAAw+vEpYAAAAMsQAAEAACxDAAQAALAMARAAAMAyfAgEvkRntw363wJubZxiHGfqCXTrT/PaeeW2X1Mnn6m/zk1Q+/XTuec21utx/ZxPeXU87Ta3+6n0M02ej+t1LdzO1XSf0hEYLrefISOxT5SuPww1ngACAABYhgAIAABgGQIgAACAZQiAAAAAliEAAgAAWIYACAAAYJksx3GcsCeB0ae9vV2RSEQvPHrtoDUwfrhVfvipGjHxU43ilakOx43bOnk9rp96GTemOfuprTGNLSjqMI512+6Vn3UKoybGTzVKUMKqaxmJNTB+pPv++X3vOd25fb+SyaQKCwuHeVYIG08AAQAALEMABAAAsAwBEAAAwDIEQAAAAMsQAAEAACxDAAQAALAMARAAAMAyY8OeADKTW0edqYeuvDrueWxQ3ObkVXxLueexbnPyum+3cX46BMMQVM9fkEZj15xXfs7VNNZ0L7p1NPqZ00j8HgAGwxNAAAAAyxAAAQAALEMABAAAsAwBEAAAwDIEQAAAAMsQAAEAACxDDQwC4VbVYqqJcatRCKNmwa0axVTJYhrrdi5udRVe52Tar59r54fX+Ur+qoG8no/bnPzUkHgd29FSYNyvSVfC+9iwamtGYuWK6fqY7vGgvq+k9HM629cb2DEx8vEEEAAAwDIEQAAAAMsQAAEAACxDAAQAALAMARAAAMAyBEAAAADLUAODEcdP9YmfWgjTcd32a6p6CbLeIQx+KldMgrrufvbr9ZhhjfVzrm41MBNiHZ73bVJQlH6/pm1uTPep2z3sp7opqO8PYKjxBBAAAMAyBEAAAADLEAABAAAsQwAEAACwDAEQAADAMgRAAAAAyxAAAQAALEMPIHxpOxlVR864815368Iy9ZWNxJ45P0zn49YpFtScy6vjabftu2excayf8zHx08M4Eo3E/sFEY/o5ufX8eT1uR4u5X9Btu8mMxac8jzW5dctez2PD+jkDXCyeAAIAAFiGAAgAAGAZAiAAAIBlCIAAAACWIQACAABYhgAIAABgGWpg4Evry1M0fkzORY8z1ZC48VpHEWTliul84lvKPe83qFoVE7caHtOcgqrwcVtDP/dTUPysU2vjlKGejquuhPc6FtP6n9o3wzi2aU9p2m1u979pnUxr7La+Qa1/WBVX6ep/utUdxHQwSvAEEAAAwDIEQAAAAMsQAAEAACxDAAQAALAMARAAAMAyBEAAAADLEAABAAAsQw8gAuHWS+WnD8trv51bp5hp+0jsCHTj9XyC7NQz9asFNSe3NfbatRhUp1uQ+zada+OWCuPYGYtPpd3W0ZK+Q9DPtQtqHfx0XbrdT0HeF+mk6/kDTHgCCAAAYBkCIAAAgGUIgAAAAJYhAAIAAFiGAAgAAGAZAiAAAIBlqIHJQC+++KIefvhhxeNxtba2avfu3br99ttT2x3H0QMPPKCnnnpKZ86c0XXXXadNmzZp+vTpF32stpMx5SnvvNfLqo8bx5nqQMKoUXDjVhXSOiX9nP9oXfpx7y0279dP/YxprNfqEzem6yqFc23dznW0rZPbWK/7vWXzXuNYU51LUHPys/6m/Ta63Yat6c/HrdbGVBMTVP2V289bt4of2IkngBmoq6tLs2fPVn19/aDbH3roIW3cuFGbN2/W0aNHNWHCBC1cuFDd3d3DPFMAABAGngBmoEWLFmnRokWDbnMcRxs2bNA3v/lN3XbbbZKkf/iHf1A0GtWPf/xj3XnnncM5VQAAEAKeAFrmrbfeUiKRUFVVVeq1SCSiuXPn6vDhw2nH9fT0qL29fcAXAAAYnQiAlkkkEpKkaDQ64PVoNJraNpi6ujpFIpHUV3FxcaDzBAAAwSEA4oLU1tYqmUymvpqbm8OeEgAA8IgAaJlYLCZJamtrG/B6W1tbattgcnNzVVhYOOALAACMTnwIxDLTpk1TLBbTwYMHde2110qS2tvbdfToUd17770Xvb/o7ITGj8k57/WwqlxMdRRBVXq46V9r2mpeJ9M6muompJG5FqY5hzUnU62HaU5+Knr8fH8EVZvixmt1k2vlitKvo9s6mfbd6uNHkJ8aHq9j3e4nP9c2Vjb42LN9vdJJz7vFKEcAzECdnZ365S9/mfr3W2+9pRMnTmjSpEkqKSnRqlWr9J3vfEfTp0/XtGnTdP/996uoqGhAVyAAAMhcBMAMdPz4cX3qU59K/XvNmjWSpKVLl2r79u36m7/5G3V1dam6ulpnzpzR9ddfr+eee055eecXOgMAgMxDAMxAN910kxzHSbs9KytL69at07p1hv9EBQAAyFh8CAQAAMAyBEAAAADLEAABAAAsQwAEAACwDB8CgS9tJ2PK0/mfHm5t9N5ZFVRHmp+xbt1fZYbNW9LXzKnCpUqu5duLzW8w8LoWbv2Cpj6yoPof/XSkuc0pqO48t3vGJKiuP9O1NfUhSj56D6eY1990XNP3jmTuAaw23MbHXZZwSqv3vj6vfYlu+/XTOwkMhieAAAAAliEAAgAAWIYACAAAYBkCIAAAgGUIgAAAAJYhAAIAAFiGGhj4cu2XX9YlOeMuepyfyhU/Y0381CyY6jWqN+9Lu831XA0VGUHVQvipGfFz7fyMMx3Xrd7ExK0Sx6uRWHXkh/F70uWQpjVuLDJfu2OGW9W07ZNu3zqG6prqau/34t7qW9Nuc/u+M32/e/2e/X3vOemkp6HIADwBBAAAsAwBEAAAwDIEQAAAAMsQAAEAACxDAAQAALAMARAAAMAyBEAAAADL0AOIUJi6v/z00Jn6yPz0bLkxdc35OVfT+bjN1+s6+umK89ObF1S/XVDdhG79gkHd4366Lk3H9XP/N/qoF4yXG9bRx35fTqTf5toD6IPpunv9OeFXumt7tq83sGNi5OMJIAAAgGUIgAAAAJYhAAIAAFiGAAgAAGAZAiAAAIBlCIAAAACWoQYGoXCr0DDxWqHhpzbFbaxpu5/aDtN+/VSJ+GE6Hz+1Nn6Y5uTnmH7uUxO3Ofm5Z0xMVSNuczJd2ymG6bpVxFQYvrVM2yTpWEDfAqbjup2Pn0oir9x+PiUaB9/ere4gpoNRgieAAAAAliEAAgAAWIYACAAAYBkCIAAAgGUIgAAAAJYhAAIAAFgmy3EcJ+xJYPRpb29XJBLRo7O/rPFjcs7b7qeixE9th58ql7AqGkyCqiEJqkLGz7Uz1Ws4e9PXl7gJqy4nDH7uNbf733Qv+qk+MY11q1w5HtClNR13jWYYxxYUdaTd5qcuys+1TedsX69Wn9yuZDKpwsLCId8/RjaeAAIAAFiGAAgAAGAZAiAAAIBlCIAAAACWIQACAABYhgAIAABgGQIgAACAZcaGPQGMblP+tFWX5Iwb0n366Q3z05Vl2m98i7mHzmvXnJ+OOj9jTevktt/WKYbON5fetrJgqhaNHXVu185r12JQvZFSMJ1vQTKtsdv6GtfRcK9JUrXh0pq6/Pzch62N6Xv+JKmjpcAwNv2B3a65n45TYDA8AQQAALAMARAAAMAyBEAAAADLEAABAAAsQwAEAACwDAEQAADAMtTAwBp+ajvCqmsJqvrBz37Lq9P3a2xxaVQx1W9MaTVs9LGGXmteJHOViNvd5Ktqx+O9aqoy8stU9bJ4876029zOxbxO5jkZa4dcKmSM+zXM2VSDJEn5hhoY0/Xxc+1M1TNS+jXu7u/xfEyMfjwBBAAAsAwBEAAAwDIEQAAAAMsQAAEAACxDAAQAALAMARAAAMAyBEAAAADL0AMIa7j1bJl6zvx0+Zm4zclP119QTB1pFUXm87knfV2cygz9ai0d5jl9xkf9namb0Nmb/p5w6yY03TOme00y3xd+7kU/95NpTmF870gu3z+G+zS+10+Hpnl7i6GTz/S9E2SHY7pr8Ptz56T9gR0WIxxPAAEAACxDAAQAALAMARAAAMAyBEAAAADLEAABAAAsQwAEAACwDDUwGaiurk7/9m//pjfeeEPjx4/Xn/3Zn+l73/ueSktLU+/p7u7W1772Ne3cuVM9PT1auHChnnjiCUWj0WGZo6mOwq02wmvlhJ8KjKDqWNyqH/ycj9f6DbdxpjkbGlUkmStX7nk2/bbNt5j3a6qJKUrfyhEo0/Upr457HutHGDUkQd2nfpjWQZIWb07fV+Q2tjOR72lObkzHLSgy9ySluwZn+3p9zQmjG08AM1BDQ4Nqamp05MgRHThwQOfOndPNN9+srq6u1HtWr16tvXv3ateuXWpoaFBLS4vuuOOOEGcNAACGC08AM9Bzzz034N/bt2/X5MmTFY/HdcMNNyiZTGrr1q3asWOH5s+fL0natm2brrrqKh05ckTz5s0LY9oAAGCY8ATQAslkUpI0adIkSVI8Hte5c+dUVVWVes/MmTNVUlKiw4cPD7qPnp4etbe3D/gCAACjEwEww/X392vVqlW67rrrdM0110iSEomEcnJyNHHixAHvjUajSiQSg+6nrq5OkUgk9VVcXBz01AEAQEAIgBmupqZGr776qnbu3OlrP7W1tUomk6mv5ubmIZohAAAYbvwNYAZbsWKF9u3bpxdffFFTp05NvR6LxdTb26szZ84MeArY1tamWCw26L5yc3OVm5sb9JQBAMAwIABmIMdxtHLlSu3evVuHDh3StGnTBmwvLy/XuHHjdPDgQS1ZskSS1NTUpHfeeUeVlZUXdazWl6do/Jic815PNHqvsQhqbFn1cePYoKo3/DBV3rhViZhqPRoNjR+mqhY3pv1KUoVhifvXpt+2xXyqvmpgTPUapoqSjhbzjt2qOUyCqkYx3TNB3f9u5+KnLsetkiUdt8qbffcs9jwnr8c1fa9L4dTlILMRADNQTU2NduzYoWeeeUYFBQWpv+uLRCIaP368IpGIli9frjVr1mjSpEkqLCzUypUrVVlZySeAAQCwAAEwA23atEmSdNNNNw14fdu2bfryl78sSXr00UeVnZ2tJUuWDCiCBgAAmY8AmIEcx3F9T15enurr61VfXz8MMwIAACMJnwIGAACwDAEQAADAMgRAAAAAyxAAAQAALMOHQOBL28mY8pQX9jQuSOOWCs9jY2XBdHC59Zj56Q0z9ZWVufSgeeXWIWg631bDlMrj5o46U0daq8znauqhM+3XrefPz7UzMa2hW7+dny4503EXb97neb9ucw6Cn3Vw60vMj3Wm3ea1c9KNWyclMBieAAIAAFiGAAgAAGAZAiAAAIBlCIAAAACWIQACAABYhgAIAABgGWpgMOoEVckSBrdKCdN2U82Lm0ZD84ZblUtnIj/ttrDqKMxVLuaxUwzr6KeuxTTWrTZl3z2L026bsfhU2m1u629aJ7daG7fKIq/jgqqB8Vrv4yas8zFxu3bptv++95x0MogZYTTgCSAAAIBlCIAAAACWIQACAABYhgAIAABgGQIgAACAZQiAAAAAliEAAgAAWIYeQGCU8trL9sHY9B11ZS4ddfmxTk/bwuLWy+a168+tS85P15yfjkev3LrkTN2FpnvRrevSJIyOQMnv95b3sV65nY+fexGZiyeAAAAAliEAAgAAWIYACAAAYBkCIAAAgGUIgAAAAJYhAAIAAFiGGhiMOLEyKguGgqmOwlQzcmrfDON+O1oKPO3XbU5BVX641XKYKjL8VJiYuM3JdFzTfE3Xxm2sm85EftptftbJNNZPvUlQdSxu96nX4/o5V7frmm7fZ/t63SeGjMUTQAAAAMsQAAEAACxDAAQAALAMARAAAMAyBEAAAADLEAABAAAsQw0MELBEY/p6B7fKG9NY0zY//NSxBFW94aciw22s1zn7qVTxcz5+xplqYtwqZEYirxUybutk+h6Ibyk3jg3q2vmRbt+/7z0nnQzssBjheAIIAABgGQIgAACAZQiAAAAAliEAAgAAWIYACAAAYBkCIAAAgGUIgAAAAJahBxChcOu/C0NQvXoj7ZiS1LilIu22WzbvDey4pg618up42m1uHWl+Ot9MPYCmPji33ryCog7PczKdj2m/pm2SdGrfjLTb3Pof3frv0jFdVzduHY2mOfs5rkmQfX1BSff93q1uSfuHdzIYMXgCCAAAYBkCIAAAgGUIgAAAAJYhAAIAAFiGAAgAAGAZAiAAAIBlshzHccKeBEaf9vZ2RSIRfV1fV57yhnTfbhUxYVWn2MJt/f3UYLhVjYTBVDViqhIxVbVI4ayTW22KiVvNi6k6qKz6uOfjms7VbQ1Ncw7qXvOzxkFxuxfTOdvXq9UntyuZTKqwsHCIZ4WRjieAAAAAliEAAgAAWIYACAAAYBkCIAAAgGUIgAAAAJYhAAIAAFiGAAgAAGCZsWFPAPj/6PkLl9v6m7rZ3PrITNtNnXt+uHXJmXrd9lbfmnZb6WeaPM/JraPONCc//Xan9s1Iu83t2pn6If1cV9O5jsTOPT9M6+SnNxLwgieAAAAAliEAAgAAWIYACAAAYBkCIAAAgGUIgAAAAJYhAAIAAFiGGpgMtGnTJm3atElvv/22JOnjH/+41q5dq0WLFkmSuru79bWvfU07d+5UT0+PFi5cqCeeeELRaDTEWWO0aNxSkXabqSrETXxLedptQVZkeK1VyY91et5vo9shp6R/wx+tSz+sf615x6Y1DoufWptM4lbDY+K1Oqtb3Z6PidGPJ4AZaOrUqVq/fr3i8biOHz+u+fPn67bbbtNrr70mSVq9erX27t2rXbt2qaGhQS0tLbrjjjtCnjUAABguPAHMQLfeOrC89rvf/a42bdqkI0eOaOrUqdq6dat27Nih+fPnS5K2bdumq666SkeOHNG8efPCmDIAABhGPAHMcH19fdq5c6e6urpUWVmpeDyuc+fOqaqqKvWemTNnqqSkRIcPH067n56eHrW3tw/4AgAAoxMBMEO98sorys/PV25uru655x7t3r1bV199tRKJhHJycjRx4sQB749Go0okEmn3V1dXp0gkkvoqLi4O+AwAAEBQCIAZqrS0VCdOnNDRo0d17733aunSpXr99dc976+2tlbJZDL11dzcPISzBQAAw4m/AcxQOTk5uvLKKyVJ5eXlOnbsmB577DF94QtfUG9vr86cOTPgKWBbW5tisVja/eXm5io3NzfoaQMAgGFAALREf3+/enp6VF5ernHjxungwYNasmSJJKmpqUnvvPOOKisrh20+proQr5UGGB5+rp2fmhgTU5VIa+MU49jy6rinbW77NW3Pbykwjp2x+FTabf1r04/zU/PiVrVjqikxrdNoZLp2HS7XzrTdtMZ+amAALwiAGai2tlaLFi1SSUmJOjo6tGPHDh06dEj79+9XJBLR8uXLtWbNGk2aNEmFhYVauXKlKisr+QQwAACWIABmoNOnT+tLX/qSWltbFYlENGvWLO3fv1+f/vSnJUmPPvqosrOztWTJkgFF0AAAwA4EwAy0detW4/a8vDzV19ervr5+mGYEAABGEj4FDAAAYBkCIAAAgGUIgAAAAJYhAAIAAFiGD4EgEEH1vYXF7XyC6i4cbX2Jbuvk1jXnVVD7NfXBufW2+ZnTqX0z0m4rKOpIu60zkW/cr6mj7s19pcaxt2zem3abqX9wJHYEuvUlmq6daf0vZLuXY0pS45YKT/sF0uEJIAAAgGUIgAAAAJYhAAIAAFiGAAgAAGAZAiAAAIBlCIAAAACWoQYGvkRnJzR+TE7Y0xgSfqprwqi98XNMU4XMaKzwMVWyjMTqGVO9jCRNKWtNu+3Qt25Ku81tTqYamOmLm4xjTRUzQa6FV6Y1DOqecGO6T91qnYL6foe9eAIIAABgGQIgAACAZQiAAAAAliEAAgAAWIYACAAAYBkCIAAAgGUIgAAAAJahBxAjjlvflU2dVn76+ryuk58+srD61UxdciOx823G4lPGsaa+PtPYU/tmGPdbUNTheU5e+/pM/YGSua/PT0dgUP2CbkzXzs/PLpt+7mF48AQQAADAMgRAAAAAyxAAAQAALEMABAAAsAwBEAAAwDIEQAAAAMtQAwP8Lz+VK0ExHTesWgg/tSqmapSw6lpMTPN1U/qZprTbDn3rJuNYUzWKqVbFVPMimc/HrULGxHTc/Fin5/2GpWlPadptXYn0NS+SVFZ9fKinAwSCJ4AAAACWIQACAABYhgAIAABgGQIgAACAZQiAAAAAliEAAgAAWCbLcRwn7Elg9Glvb1ckEtGjs7+s8WNywp5OykiscglKWDUwJkGt8UisiDFVtQSptXFK2m1uczJVyJiqTyRz1Yuf69PRkr5Wxa2Gx+txG7dUGLdPiKU/V7camNGkW91ar/VKJpMqLCwMezoYZjwBBAAAsAwBEAAAwDIEQAAAAMsQAAEAACxDAAQAALAMARAAAMAyBEAAAADLjA17ArBTUH19mdb1Z+J2rkH1BAa1xqb5BtkDaOqaMx3X1Mcn+esJ9Nr15zYnU+ee2xqb1qnhW59Kuy3I70nTnPzc/5nU9QekwxNAAAAAyxAAAQAALEMABAAAsAwBEAAAwDIEQAAAAMsQAAEAACxDDQxCYVNdS6bxU+HjtZrDVPch+auJCbJixis/VS8mBUUdabe5rbHXa+c2znTPBFVlBIAngAAAANYhAAIAAFiGAAgAAGAZAiAAAIBlCIAAAACWIQACAABYhgAIAABgGXoAMeL46f7KtH5BP517YQirt83UYRdWz5+fvj5TD6BJUF1+QRqJcwJswBNAAAAAyxAAAQAALEMABAAAsAwBEAAAwDIEQAAAAMsQAC2wfv16ZWVladWqVanXuru7VVNTo8suu0z5+flasmSJ2trawpskAAAYNtTAZLhjx47pySef1KxZswa8vnr1aj377LPatWuXIpGIVqxYoTvuuEMvvfTSRe2/7WRMecobyim71pvYVBvhp+rFNDasNQxqTgVFHZ7HeuVWuWKqn3Eb6+e4AHAheAKYwTo7O3XXXXfpqaee0qWXXpp6PZlMauvWrXrkkUc0f/58lZeXa9u2bfrP//xPHTlyJMQZAwCA4UAAzGA1NTW65ZZbVFVVNeD1eDyuc+fODXh95syZKikp0eHDh4d7mgAAYJjxK+AMtXPnTjU2NurYsWPnbUskEsrJydHEiRMHvB6NRpVIJAbdX09Pj3p6elL/bm9vH9L5AgCA4cMTwAzU3Nys++67T//0T/+kvLyh+fu8uro6RSKR1FdxcfGQ7BcAAAw/AmAGisfjOn36tMrKyjR27FiNHTtWDQ0N2rhxo8aOHatoNKre3l6dOXNmwLi2tjbFYrFB91lbW6tkMpn6am5uHoYzAQAAQeBXwBlowYIFeuWVVwa8tmzZMs2cOVN/+7d/q+LiYo0bN04HDx7UkiVLJElNTU165513VFlZOeg+c3NzlZubG/jcAQBA8AiAGaigoEDXXHPNgNcmTJigyy67LPX68uXLtWbNGk2aNEmFhYVauXKlKisrNW/evGGZYxj1Jn6OmWmCqmMJ6rr6qXnpaCkwbjft20/lSuOWirTb3NbJdFzucQBDgQBoqUcffVTZ2dlasmSJenp6tHDhQj3xxBNhTwsAAAwDAqAlDh06NODfeXl5qq+vV319fTgTAgAAoeFDIAAAAJYhAAIAAFiGAAgAAGAZAiAAAIBlCIAAAACW4VPACIWfrjkTetD8c1vDoK6diVsPoKnrz22sn64/Ez9di6ax3OMAhgJPAAEAACxDAAQAALAMARAAAMAyBEAAAADLEAABAAAsQwAEAACwDDUwyCimeg0/9SZBVW8UVZj3G1RFiR9hrIWp5kVyr3oJQxj3YhgVPQBGJ54AAgAAWIYACAAAYBkCIAAAgGUIgAAAAJYhAAIAAFiGAAgAAGAZAiAAAIBl6AEE/ldYXX9ex47EjkC3Pj7TnBu3VKTd5nZt3HoCvY41nY/bMf3cTxNi6Y9L1x+AocATQAAAAMsQAAEAACxDAAQAALAMARAAAMAyBEAAAADLEAABAAAsQw0MMkpQVS5uvNa1+KmI8cNUJeJnDd2qUUy1Kl2J9GP9VJ+4nY/Xqhe3yhsTP7U1ADAUeAIIAABgGQIgAACAZQiAAAAAliEAAgAAWIYACAAAYBkCIAAAgGWogcGoE1bVi4nXqhfTOLexfozENQyKW4WMaS38VL2YmCpvAGA48AQQAADAMgRAAAAAyxAAAQAALEMABAAAsAwBEAAAwDIEQAAAAMsQAAEAACxDDyBGHT+9el73O6Ws1Ti2tXGKp7F+9ptpTH18bl1+fpj2PSGWvgfQrSMwyDkDgF88AQQAALAMARAAAMAyBEAAAADLEAABAAAsQwAEAACwDAEQAADAMtTAIBSmyo+wmCpZTBUxF7J9pPFTl2OSadUnXYkCT9sAYKTjCSAAAIBlCIAAAACWIQACAABYhgAIAABgGQIgAACAZQiAAAAAliEAAgAAWIYeQITC1Bfn1hFo6rDz08cX31Lueb+mDsHsdenHHYulP6YktTZOMW4HAMALngACAABYhgAIAABgGQIgAACAZQiAAAAAliEAAgAAWIZPAcMTx3EkST3qGfJ9n+3r9Tz2973nAjluR2e/ceyEdsPG7vSbOs/2Gffr53xM/KyxSbfpZAGMKB/+/P7w5znskuVw5eHBu+++q+Li4rCnAQDwqbm5WVOnTg17GhhmBEB40t/fr5aWFhUUFCgrK0vt7e0qLi5Wc3OzCgsLw57eiMU6XRjW6cKwTheGdRqc4zjq6OhQUVGRsrP5izDb8CtgeJKdnT3o/2MsLCzkB+wFYJ0uDOt0YVinC8M6nS8SiYQ9BYSEyA8AAGAZAiAAAIBlCIAYErm5uXrggQeUm5sb9lRGNNbpwrBOF4Z1ujCsE3A+PgQCAABgGZ4AAgAAWIYACAAAYBkCIAAAgGUIgAAAAJYhAMK3+vp6/fEf/7Hy8vI0d+5c/dd//VfYUwrdiy++qFtvvVVFRUXKysrSj3/84wHbHcfR2rVrNWXKFI0fP15VVVV68803w5lsSOrq6vTJT35SBQUFmjx5sm6//XY1NTUNeE93d7dqamp02WWXKT8/X0uWLFFbW1tIMw7Hpk2bNGvWrFSJcWVlpX7yk5+ktrNGg1u/fr2ysrK0atWq1GusFfB/CIDw5Yc//KHWrFmjBx54QI2NjZo9e7YWLlyo06dPhz21UHV1dWn27Nmqr68fdPtDDz2kjRs3avPmzTp69KgmTJighQsXqru7e5hnGp6GhgbV1NToyJEjOnDggM6dO6ebb75ZXV1dqfesXr1ae/fu1a5du9TQ0KCWlhbdcccdIc56+E2dOlXr169XPB7X8ePHNX/+fN1222167bXXJLFGgzl27JiefPJJzZo1a8DrrBXwEQ7gw5w5c5yamprUv/v6+pyioiKnrq4uxFmNLJKc3bt3p/7d39/vxGIx5+GHH069dubMGSc3N9f553/+5xBmODKcPn3akeQ0NDQ4jvPBmowbN87ZtWtX6j2/+MUvHEnO4cOHw5rmiHDppZc6Tz/9NGs0iI6ODmf69OnOgQMHnBtvvNG57777HMfhfgL+P54AwrPe3l7F43FVVVWlXsvOzlZVVZUOHz4c4sxGtrfeekuJRGLAukUiEc2dO9fqdUsmk5KkSZMmSZLi8bjOnTs3YJ1mzpypkpISa9epr69PO3fuVFdXlyorK1mjQdTU1OiWW24ZsCYS9xPw/40NewIYvd5//3319fUpGo0OeD0ajeqNN94IaVYjXyKRkKRB1+3Dbbbp7+/XqlWrdN111+maa66R9ME65eTkaOLEiQPea+M6vfLKK6qsrFR3d7fy8/O1e/duXX311Tpx4gRr9BE7d+5UY2Ojjh07dt427idgIAIggNDV1NTo1Vdf1c9//vOwpzIilZaW6sSJE0omk/rRj36kpUuXqqGhIexpjSjNzc267777dODAAeXl5YU9HWDE41fA8OxjH/uYxowZc96n6Nra2hSLxUKa1cj34dqwbh9YsWKF9u3bpxdeeEFTp05NvR6LxdTb26szZ84MeL+N65STk6Mrr7xS5eXlqqur0+zZs/XYY4+xRh8Rj8d1+vRplZWVaezYsRo7dqwaGhq0ceNGjR07VtFolLUCPoIACM9ycnJUXl6ugwcPpl7r7+/XwYMHVVlZGeLMRrZp06YpFosNWLf29nYdPXrUqnVzHEcrVqzQ7t279fzzz2vatGkDtpeXl2vcuHED1qmpqUnvvPOOVes0mP7+fvX09LBGH7FgwQK98sorOnHiROqroqJCd911V+p/s1bA/+FXwPBlzZo1Wrp0qSoqKjRnzhxt2LBBXV1dWrZsWdhTC1VnZ6d++ctfpv791ltv6cSJE5o0aZJKSkq0atUqfec739H06dM1bdo03X///SoqKtLtt98e3qSHWU1NjXbs2KFnnnlGBQUFqb/DikQiGj9+vCKRiJYvX641a9Zo0qRJKiws1MqVK1VZWal58+aFPPvhU1tbq0WLFqmkpEQdHR3asWOHDh06pP3797NGH1FQUJD6+9EPTZgwQZdddlnqddYK+IiwP4aM0e/xxx93SkpKnJycHGfOnDnOkSNHwp5S6F544QVH0nlfS5cudRzngyqY+++/34lGo05ubq6zYMECp6mpKdxJD7PB1keSs23bttR7zp4963z1q191Lr30UueSSy5xPvvZzzqtra3hTToEd999t3PFFVc4OTk5zuWXX+4sWLDA+elPf5razhql99EaGMdhrYCPynIcxwkpewIAACAE/A0gAACAZQiAAAAAliEAAgAAWIYACAAAYBkCIAAAgGUIgAAAAJYhAAIAAFiGAAgAAGAZAiAAAIBlCIAAAACWIQACAABYhgAIAABgGQIgAACAZQiAAAAAliEAAgAAWIYACAAAYBkCIAAAgGUIgAAAAJYhAAIAAFiGAAgAAGAZAiAAAIBlCIAAAACWIQACAABYhgAIAABgGQIgAACAZQiAAAAAliEAAgAAWIYACAAAYBkCIAAAgGUIgAAAAJYhAAIAAFjmfwD9OeIVRYvxIgAAAABJRU5ErkJggg==' width=640.0/>\n",
              "            </div>\n",
              "        "
            ],
            "application/vnd.jupyter.widget-view+json": {
              "version_major": 2,
              "version_minor": 0,
              "model_id": "fdc1a1e9a6d54d9e86d8e92f2464d330"
            }
          },
          "metadata": {
            "application/vnd.jupyter.widget-view+json": {
              "colab": {
                "custom_widget_manager": {
                  "url": "https://ssl.gstatic.com/colaboratory-static/widgets/colab-cdn-widget-manager/2b70e893a8ba7c0f/manager.min.js"
                }
              }
            }
          }
        }
      ]
    }
  ],
  "metadata": {
    "kernelspec": {
      "display_name": "Python 3",
      "language": "python",
      "name": "python3"
    },
    "language_info": {
      "codemirror_mode": {
        "name": "ipython",
        "version": 3
      },
      "file_extension": ".py",
      "mimetype": "text/x-python",
      "name": "python",
      "nbconvert_exporter": "python",
      "pygments_lexer": "ipython3",
      "version": "3.11.7"
    },
    "colab": {
      "provenance": []
    },
    "widgets": {
      "application/vnd.jupyter.widget-state+json": {
        "fdc1a1e9a6d54d9e86d8e92f2464d330": {
          "model_module": "jupyter-matplotlib",
          "model_name": "MPLCanvasModel",
          "model_module_version": "^0.11",
          "state": {
            "_cursor": "default",
            "_data_url": "data:image/png;base64,iVBORw0KGgoAAAANSUhEUgAAAoAAAAHgCAYAAAA10dzkAAAAOXRFWHRTb2Z0d2FyZQBNYXRwbG90bGliIHZlcnNpb24zLjcuMSwgaHR0cHM6Ly9tYXRwbG90bGliLm9yZy/bCgiHAAAACXBIWXMAAA9hAAAPYQGoP6dpAAAvqklEQVR4nO3df3BV5YHG8ScBkiBJLmLlXrIkLjtC0FpwkxTI6qiFVJYRq5VO66zTUmQn1QZGoPuj6VRssZ1Q3SriRhBlYHa7LF26SwXcSilK3LrAwo0w/qjBtlqjyQ11O9z8KElocvYP17tmyX0PnJOTk9z3+5nJTLnnvue85z0nmacnuY9ZjuM4AgAAgDWyw54AAAAAhhcBEAAAwDIEQAAAAMsQAAEAACxDAAQAALAMARAAAMAyBEAAAADLEAABAAAsQwAEAACwDAEQAADAMgRAAAAAyxAAAQAALEMABAAAsAwBEAAAwDIEQAAAAMsQAAEAACxDAAQAALAMARAAAMAyBEAAAADLEAABAAAsQwAEAACwDAEQAADAMgRAAAAAyxAAAQAALEMABAAAsAwBEAAAwDIEQAAAAMsQAAEAACxDAAQAALAMARAAAMAyBEAAAADLEAABAAAsQwAEAACwDAEQgFWefvppPfnkk2FPAwBCRQAEYI2f/vSnuueee1RaWhr2VAAgVARAAKPO9u3blZWVlfrKy8tTUVGRFi5cqI0bN6qjo+O8MV1dXaqurta3v/1t3XTTTUMyjwMHDuj666/XJZdcoksvvVSf+9zn9Pbbb5/3vs7OTq1atUpTp05Vbm6urrrqKm3atGlI5gAAXmQ5juOEPQkAuBjbt2/XsmXLtG7dOk2bNk3nzp1TIpHQoUOHdODAAZWUlGjPnj2aNWtWasx9992nU6dO6d///d+VlZXlew779u3TbbfdprKyMn3xi19Ue3u7HnvsMeXm5urll1/W5ZdfLknq6+vTDTfcoOPHj6umpkbTp0/X/v379cwzz+i73/2uvvGNb/ieCwBcLAIggFHnwwB47NgxVVRUDNj2/PPPa/HixZo8ebJ+8YtfaPz48YHM4eMf/7h6e3v12muvKScnR5J08uRJlZWVadWqVfr+978vSdq1a5c+//nPa+vWrbr77rtT4z/3uc/p2Wef1W9+8xtNnjw5kDkCQDr8ChhARpk/f77uv/9+/eY3v9EPfvCD1Ovf+ta3znvyt23bNs2fP1+TJ09Wbm6urr766gv61ezvfvc7vf766/rsZz+bCn+SNHv2bF111VXauXNn6rX/+I//kCTdeeedA/Zx5513qru7W88884yn8wQAPwiAADLOF7/4RUkffOjDZNOmTbriiiv0jW98Q9///vdVXFysr371q6qvrzeO6+npkaRBny5ecsklamlpUSKRSL13zJgxA4Lih++TpHg8fmEnBQBDaGzYEwCAoTZ16lRFIhH96le/Mr6voaFhQIhbsWKF/vzP/1yPPPKIampq0o6LRqOaOHGiXnrppQGv//d//7def/11SdJ7772nWCym0tJS9fX16ciRI7r++utT7/3wyeB777130ecHAH7xBBBARsrPzx/008Af9dHwl0wm9f777+vGG2/Ur3/9ayWTybTjsrOz9ZWvfEUHDx5UbW2t3nzzTcXjcX3+859Xb2+vJOns2bOSpL/4i79QJBLR3XffrQMHDujtt9/Wli1b9MQTTwx4HwAMJwIggIzU2dmpgoIC43teeuklVVVVacKECZo4caIuv/zy1KdyTQFQktatW6fly5froYce0owZM1RRUaGxY8dq+fLlkj4IoJIUi8W0Z88e9fT06Oabb9a0adP013/913r88ccHvA8AhhMBEEDGeffdd5VMJnXllVemfc+vfvUrLViwQO+//74eeeQRPfvsszpw4IBWr14tServ7zceIycnR08//bRaWlr04osvqqmpSfv371cymVR2dvaAY99www369a9/rZdfflk///nP9d5772nevHmSpBkzZgzBGQPAxeFvAAFknH/8x3+UJC1cuDDte/bu3auenh7t2bNHJSUlqddfeOGFizpWNBpVNBqV9EHn36FDhzR37tzznuyNGTNG1157berfP/vZzyRJVVVVF3U8ABgKBEAAGeX555/Xgw8+qGnTpumuu+5K+74xY8ZIkj5ahZpMJrVt2zbPx/67v/s7tba2pn69m85vf/tbfe9739OsWbMIgABCQQAEMGr95Cc/0RtvvKE//OEPamtr0/PPP68DBw7oiiuu0J49e5SXl5d27M0336ycnBzdeuut+spXvqLOzk499dRTmjx5slpbW12P/YMf/ED/+q//qhtuuEH5+fn62c9+pn/5l3/RX/7lX2rJkiUD3nvjjTeqsrJSV155pRKJhLZs2aLOzk7t27dP2dn8JQ6A4UcABDBqrV27VtIHf483adIkfeITn9CGDRu0bNky1w+AlJaW6kc/+pG++c1v6q/+6q8Ui8V077336vLLLx/wX+xIZ8aMGfrd736nBx98UGfPnlVpaak2b96s6urq895bXl6uXbt26b333lNhYaE+/elP68EHH9Sf/MmfeDtxAPCJ/xQcAACAZfjdAwAAgGUIgAAAAJYhAAIAAFiGAAgAAGAZAiAAAIBlCIAAAACWIQACAABYhiJoy9XX1+vhhx9WIpHQ7Nmz9fjjj2vOnDmu4/r7+9XS0qKCggJlZWUNw0wBAEPJcRx1dHSoqKiI/yKNhSiCttgPf/hDfelLX9LmzZs1d+5cbdiwQbt27VJTU5MmT55sHPvuu++quLh4mGYKAAhKc3Ozpk6dGvY0MMwIgBabO3euPvnJT+rv//7vJX3wVK+4uFgrV67U17/+dePYZDKpiRMnal/dJzQhb8x529tORgOZsySd2P6nabdFZycCO+5IM+VP3f97tUFofXlKIPttOxlLu83Pde1szTduz5/S6Wm/butvWifTuWJ0C+pnkJ97Jt2cuvt6VfvqDp05c0aRSMTz/jE68StgS/X29ioej6u2tjb1WnZ2tqqqqnT48OHz3t/T06Oenp7Uvzs6OiRJE/LGKH/8+QGwI2dcALP+QJ7y0m4bPyYnsOOONJcEuMYmQa1xUNf1D9m5xu3jx/R62q/b+pvmbDpXjG5hfH+4cZsTf8ZjJ37pb6n3339ffX19ikYHPqmLRqNKJM7/f4t1dXWKRCKpL379CwDA6EUAxAWpra1VMplMfTU3N4c9JQAA4BG/ArbUxz72MY0ZM0ZtbW0DXm9ra1Msdv7fmuTm5io31/yrNAAAMDoQAC2Vk5Oj8vJyHTx4ULfffrukDz4EcvDgQa1YseKC99N2Mjro3/tNKfP+AYX4lnLPYxONRWm3xcpaPO/XD9OcyqqPD+NMgldUYV7jluPero/bfpv2lKbdVlDUYRwb1D1j2i8wlML62YbRjQBosTVr1mjp0qWqqKjQnDlztGHDBnV1dWnZsmVhTw0AAASIAGixL3zhC/rtb3+rtWvXKpFI6Nprr9Vzzz133gdDAABAZiEAWm7FihUX9StfAAAw+vEpYAAAAMsQAAEAACxDAAQAALAMARAAAMAyfAgEvkRntw363wJubZxiHGfqCXTrT/PaeeW2X1Mnn6m/zk1Q+/XTuec21utx/ZxPeXU87Ta3+6n0M02ej+t1LdzO1XSf0hEYLrefISOxT5SuPww1ngACAABYhgAIAABgGQIgAACAZQiAAAAAliEAAgAAWIYACAAAYJksx3GcsCeB0ae9vV2RSEQvPHrtoDUwfrhVfvipGjHxU43ilakOx43bOnk9rp96GTemOfuprTGNLSjqMI512+6Vn3UKoybGTzVKUMKqaxmJNTB+pPv++X3vOd25fb+SyaQKCwuHeVYIG08AAQAALEMABAAAsAwBEAAAwDIEQAAAAMsQAAEAACxDAAQAALAMARAAAMAyY8OeADKTW0edqYeuvDrueWxQ3ObkVXxLueexbnPyum+3cX46BMMQVM9fkEZj15xXfs7VNNZ0L7p1NPqZ00j8HgAGwxNAAAAAyxAAAQAALEMABAAAsAwBEAAAwDIEQAAAAMsQAAEAACxDDQwC4VbVYqqJcatRCKNmwa0axVTJYhrrdi5udRVe52Tar59r54fX+Ur+qoG8no/bnPzUkHgd29FSYNyvSVfC+9iwamtGYuWK6fqY7vGgvq+k9HM629cb2DEx8vEEEAAAwDIEQAAAAMsQAAEAACxDAAQAALAMARAAAMAyBEAAAADLUAODEcdP9YmfWgjTcd32a6p6CbLeIQx+KldMgrrufvbr9ZhhjfVzrm41MBNiHZ73bVJQlH6/pm1uTPep2z3sp7opqO8PYKjxBBAAAMAyBEAAAADLEAABAAAsQwAEAACwDAEQAADAMgRAAAAAyxAAAQAALEMPIHxpOxlVR864815368Iy9ZWNxJ45P0zn49YpFtScy6vjabftu2excayf8zHx08M4Eo3E/sFEY/o5ufX8eT1uR4u5X9Btu8mMxac8jzW5dctez2PD+jkDXCyeAAIAAFiGAAgAAGAZAiAAAIBlCIAAAACWIQACAABYhgAIAABgGWpg4Evry1M0fkzORY8z1ZC48VpHEWTliul84lvKPe83qFoVE7caHtOcgqrwcVtDP/dTUPysU2vjlKGejquuhPc6FtP6n9o3wzi2aU9p2m1u979pnUxr7La+Qa1/WBVX6ep/utUdxHQwSvAEEAAAwDIEQAAAAMsQAAEAACxDAAQAALAMARAAAMAyBEAAAADLEAABAAAsQw8gAuHWS+WnD8trv51bp5hp+0jsCHTj9XyC7NQz9asFNSe3NfbatRhUp1uQ+zada+OWCuPYGYtPpd3W0ZK+Q9DPtQtqHfx0XbrdT0HeF+mk6/kDTHgCCAAAYBkCIAAAgGUIgAAAAJYhAAIAAFiGAAgAAGAZAiAAAIBlqIHJQC+++KIefvhhxeNxtba2avfu3br99ttT2x3H0QMPPKCnnnpKZ86c0XXXXadNmzZp+vTpF32stpMx5SnvvNfLqo8bx5nqQMKoUXDjVhXSOiX9nP9oXfpx7y0279dP/YxprNfqEzem6yqFc23dznW0rZPbWK/7vWXzXuNYU51LUHPys/6m/Ta63Yat6c/HrdbGVBMTVP2V289bt4of2IkngBmoq6tLs2fPVn19/aDbH3roIW3cuFGbN2/W0aNHNWHCBC1cuFDd3d3DPFMAABAGngBmoEWLFmnRokWDbnMcRxs2bNA3v/lN3XbbbZKkf/iHf1A0GtWPf/xj3XnnncM5VQAAEAKeAFrmrbfeUiKRUFVVVeq1SCSiuXPn6vDhw2nH9fT0qL29fcAXAAAYnQiAlkkkEpKkaDQ64PVoNJraNpi6ujpFIpHUV3FxcaDzBAAAwSEA4oLU1tYqmUymvpqbm8OeEgAA8IgAaJlYLCZJamtrG/B6W1tbattgcnNzVVhYOOALAACMTnwIxDLTpk1TLBbTwYMHde2110qS2tvbdfToUd17770Xvb/o7ITGj8k57/WwqlxMdRRBVXq46V9r2mpeJ9M6muompJG5FqY5hzUnU62HaU5+Knr8fH8EVZvixmt1k2vlitKvo9s6mfbd6uNHkJ8aHq9j3e4nP9c2Vjb42LN9vdJJz7vFKEcAzECdnZ365S9/mfr3W2+9pRMnTmjSpEkqKSnRqlWr9J3vfEfTp0/XtGnTdP/996uoqGhAVyAAAMhcBMAMdPz4cX3qU59K/XvNmjWSpKVLl2r79u36m7/5G3V1dam6ulpnzpzR9ddfr+eee055eecXOgMAgMxDAMxAN910kxzHSbs9KytL69at07p1hv9EBQAAyFh8CAQAAMAyBEAAAADLEAABAAAsQwAEAACwDB8CgS9tJ2PK0/mfHm5t9N5ZFVRHmp+xbt1fZYbNW9LXzKnCpUqu5duLzW8w8LoWbv2Cpj6yoPof/XSkuc0pqO48t3vGJKiuP9O1NfUhSj56D6eY1990XNP3jmTuAaw23MbHXZZwSqv3vj6vfYlu+/XTOwkMhieAAAAAliEAAgAAWIYACAAAYBkCIAAAgGUIgAAAAJYhAAIAAFiGGhj4cu2XX9YlOeMuepyfyhU/Y0381CyY6jWqN+9Lu831XA0VGUHVQvipGfFz7fyMMx3Xrd7ExK0Sx6uRWHXkh/F70uWQpjVuLDJfu2OGW9W07ZNu3zqG6prqau/34t7qW9Nuc/u+M32/e/2e/X3vOemkp6HIADwBBAAAsAwBEAAAwDIEQAAAAMsQAAEAACxDAAQAALAMARAAAMAyBEAAAADL0AOIUJi6v/z00Jn6yPz0bLkxdc35OVfT+bjN1+s6+umK89ObF1S/XVDdhG79gkHd4366Lk3H9XP/N/qoF4yXG9bRx35fTqTf5toD6IPpunv9OeFXumt7tq83sGNi5OMJIAAAgGUIgAAAAJYhAAIAAFiGAAgAAGAZAiAAAIBlCIAAAACWoQYGoXCr0DDxWqHhpzbFbaxpu5/aDtN+/VSJ+GE6Hz+1Nn6Y5uTnmH7uUxO3Ofm5Z0xMVSNuczJd2ymG6bpVxFQYvrVM2yTpWEDfAqbjup2Pn0oir9x+PiUaB9/ere4gpoNRgieAAAAAliEAAgAAWIYACAAAYBkCIAAAgGUIgAAAAJYhAAIAAFgmy3EcJ+xJYPRpb29XJBLRo7O/rPFjcs7b7qeixE9th58ql7AqGkyCqiEJqkLGz7Uz1Ws4e9PXl7gJqy4nDH7uNbf733Qv+qk+MY11q1w5HtClNR13jWYYxxYUdaTd5qcuys+1TedsX69Wn9yuZDKpwsLCId8/RjaeAAIAAFiGAAgAAGAZAiAAAIBlCIAAAACWIQACAABYhgAIAABgGQIgAACAZcaGPQGMblP+tFWX5Iwb0n366Q3z05Vl2m98i7mHzmvXnJ+OOj9jTevktt/WKYbON5fetrJgqhaNHXVu185r12JQvZFSMJ1vQTKtsdv6GtfRcK9JUrXh0pq6/Pzch62N6Xv+JKmjpcAwNv2B3a65n45TYDA8AQQAALAMARAAAMAyBEAAAADLEAABAAAsQwAEAACwDAEQAADAMtTAwBp+ajvCqmsJqvrBz37Lq9P3a2xxaVQx1W9MaTVs9LGGXmteJHOViNvd5Ktqx+O9aqoy8stU9bJ4876029zOxbxO5jkZa4dcKmSM+zXM2VSDJEn5hhoY0/Xxc+1M1TNS+jXu7u/xfEyMfjwBBAAAsAwBEAAAwDIEQAAAAMsQAAEAACxDAAQAALAMARAAAMAyBEAAAADL0AMIa7j1bJl6zvx0+Zm4zclP119QTB1pFUXm87knfV2cygz9ai0d5jl9xkf9namb0Nmb/p5w6yY03TOme00y3xd+7kU/95NpTmF870gu3z+G+zS+10+Hpnl7i6GTz/S9E2SHY7pr8Ptz56T9gR0WIxxPAAEAACxDAAQAALAMARAAAMAyBEAAAADLEAABAAAsQwAEAACwDDUwGaiurk7/9m//pjfeeEPjx4/Xn/3Zn+l73/ueSktLU+/p7u7W1772Ne3cuVM9PT1auHChnnjiCUWj0WGZo6mOwq02wmvlhJ8KjKDqWNyqH/ycj9f6DbdxpjkbGlUkmStX7nk2/bbNt5j3a6qJKUrfyhEo0/Upr457HutHGDUkQd2nfpjWQZIWb07fV+Q2tjOR72lObkzHLSgy9ySluwZn+3p9zQmjG08AM1BDQ4Nqamp05MgRHThwQOfOndPNN9+srq6u1HtWr16tvXv3ateuXWpoaFBLS4vuuOOOEGcNAACGC08AM9Bzzz034N/bt2/X5MmTFY/HdcMNNyiZTGrr1q3asWOH5s+fL0natm2brrrqKh05ckTz5s0LY9oAAGCY8ATQAslkUpI0adIkSVI8Hte5c+dUVVWVes/MmTNVUlKiw4cPD7qPnp4etbe3D/gCAACjEwEww/X392vVqlW67rrrdM0110iSEomEcnJyNHHixAHvjUajSiQSg+6nrq5OkUgk9VVcXBz01AEAQEAIgBmupqZGr776qnbu3OlrP7W1tUomk6mv5ubmIZohAAAYbvwNYAZbsWKF9u3bpxdffFFTp05NvR6LxdTb26szZ84MeArY1tamWCw26L5yc3OVm5sb9JQBAMAwIABmIMdxtHLlSu3evVuHDh3StGnTBmwvLy/XuHHjdPDgQS1ZskSS1NTUpHfeeUeVlZUXdazWl6do/Jic815PNHqvsQhqbFn1cePYoKo3/DBV3rhViZhqPRoNjR+mqhY3pv1KUoVhifvXpt+2xXyqvmpgTPUapoqSjhbzjt2qOUyCqkYx3TNB3f9u5+KnLsetkiUdt8qbffcs9jwnr8c1fa9L4dTlILMRADNQTU2NduzYoWeeeUYFBQWpv+uLRCIaP368IpGIli9frjVr1mjSpEkqLCzUypUrVVlZySeAAQCwAAEwA23atEmSdNNNNw14fdu2bfryl78sSXr00UeVnZ2tJUuWDCiCBgAAmY8AmIEcx3F9T15enurr61VfXz8MMwIAACMJnwIGAACwDAEQAADAMgRAAAAAyxAAAQAALMOHQOBL28mY8pQX9jQuSOOWCs9jY2XBdHC59Zj56Q0z9ZWVufSgeeXWIWg631bDlMrj5o46U0daq8znauqhM+3XrefPz7UzMa2hW7+dny4503EXb97neb9ucw6Cn3Vw60vMj3Wm3ea1c9KNWyclMBieAAIAAFiGAAgAAGAZAiAAAIBlCIAAAACWIQACAABYhgAIAABgGWpgMOoEVckSBrdKCdN2U82Lm0ZD84ZblUtnIj/ttrDqKMxVLuaxUwzr6KeuxTTWrTZl3z2L026bsfhU2m1u629aJ7daG7fKIq/jgqqB8Vrv4yas8zFxu3bptv++95x0MogZYTTgCSAAAIBlCIAAAACWIQACAABYhgAIAABgGQIgAACAZQiAAAAAliEAAgAAWIYeQGCU8trL9sHY9B11ZS4ddfmxTk/bwuLWy+a168+tS85P15yfjkev3LrkTN2FpnvRrevSJIyOQMnv95b3sV65nY+fexGZiyeAAAAAliEAAgAAWIYACAAAYBkCIAAAgGUIgAAAAJYhAAIAAFiGGhiMOLEyKguGgqmOwlQzcmrfDON+O1oKPO3XbU5BVX641XKYKjL8VJiYuM3JdFzTfE3Xxm2sm85EftptftbJNNZPvUlQdSxu96nX4/o5V7frmm7fZ/t63SeGjMUTQAAAAMsQAAEAACxDAAQAALAMARAAAMAyBEAAAADLEAABAAAsQw0MELBEY/p6B7fKG9NY0zY//NSxBFW94aciw22s1zn7qVTxcz5+xplqYtwqZEYirxUybutk+h6Ibyk3jg3q2vmRbt+/7z0nnQzssBjheAIIAABgGQIgAACAZQiAAAAAliEAAgAAWIYACAAAYBkCIAAAgGUIgAAAAJahBxChcOu/C0NQvXoj7ZiS1LilIu22WzbvDey4pg618up42m1uHWl+Ot9MPYCmPji33ryCog7PczKdj2m/pm2SdGrfjLTb3Pof3frv0jFdVzduHY2mOfs5rkmQfX1BSff93q1uSfuHdzIYMXgCCAAAYBkCIAAAgGUIgAAAAJYhAAIAAFiGAAgAAGAZAiAAAIBlshzHccKeBEaf9vZ2RSIRfV1fV57yhnTfbhUxYVWn2MJt/f3UYLhVjYTBVDViqhIxVbVI4ayTW22KiVvNi6k6qKz6uOfjms7VbQ1Ncw7qXvOzxkFxuxfTOdvXq9UntyuZTKqwsHCIZ4WRjieAAAAAliEAAgAAWIYACAAAYBkCIAAAgGUIgAAAAJYhAAIAAFiGAAgAAGCZsWFPAPj/6PkLl9v6m7rZ3PrITNtNnXt+uHXJmXrd9lbfmnZb6WeaPM/JraPONCc//Xan9s1Iu83t2pn6If1cV9O5jsTOPT9M6+SnNxLwgieAAAAAliEAAgAAWIYACAAAYBkCIAAAgGUIgAAAAJYhAAIAAFiGGpgMtGnTJm3atElvv/22JOnjH/+41q5dq0WLFkmSuru79bWvfU07d+5UT0+PFi5cqCeeeELRaDTEWWO0aNxSkXabqSrETXxLedptQVZkeK1VyY91et5vo9shp6R/wx+tSz+sf615x6Y1DoufWptM4lbDY+K1Oqtb3Z6PidGPJ4AZaOrUqVq/fr3i8biOHz+u+fPn67bbbtNrr70mSVq9erX27t2rXbt2qaGhQS0tLbrjjjtCnjUAABguPAHMQLfeOrC89rvf/a42bdqkI0eOaOrUqdq6dat27Nih+fPnS5K2bdumq666SkeOHNG8efPCmDIAABhGPAHMcH19fdq5c6e6urpUWVmpeDyuc+fOqaqqKvWemTNnqqSkRIcPH067n56eHrW3tw/4AgAAoxMBMEO98sorys/PV25uru655x7t3r1bV199tRKJhHJycjRx4sQB749Go0okEmn3V1dXp0gkkvoqLi4O+AwAAEBQCIAZqrS0VCdOnNDRo0d17733aunSpXr99dc976+2tlbJZDL11dzcPISzBQAAw4m/AcxQOTk5uvLKKyVJ5eXlOnbsmB577DF94QtfUG9vr86cOTPgKWBbW5tisVja/eXm5io3NzfoaQMAgGFAALREf3+/enp6VF5ernHjxungwYNasmSJJKmpqUnvvPOOKisrh20+proQr5UGGB5+rp2fmhgTU5VIa+MU49jy6rinbW77NW3Pbykwjp2x+FTabf1r04/zU/PiVrVjqikxrdNoZLp2HS7XzrTdtMZ+amAALwiAGai2tlaLFi1SSUmJOjo6tGPHDh06dEj79+9XJBLR8uXLtWbNGk2aNEmFhYVauXKlKisr+QQwAACWIABmoNOnT+tLX/qSWltbFYlENGvWLO3fv1+f/vSnJUmPPvqosrOztWTJkgFF0AAAwA4EwAy0detW4/a8vDzV19ervr5+mGYEAABGEj4FDAAAYBkCIAAAgGUIgAAAAJYhAAIAAFiGD4EgEEH1vYXF7XyC6i4cbX2Jbuvk1jXnVVD7NfXBufW2+ZnTqX0z0m4rKOpIu60zkW/cr6mj7s19pcaxt2zem3abqX9wJHYEuvUlmq6daf0vZLuXY0pS45YKT/sF0uEJIAAAgGUIgAAAAJYhAAIAAFiGAAgAAGAZAiAAAIBlCIAAAACWoQYGvkRnJzR+TE7Y0xgSfqprwqi98XNMU4XMaKzwMVWyjMTqGVO9jCRNKWtNu+3Qt25Ku81tTqYamOmLm4xjTRUzQa6FV6Y1DOqecGO6T91qnYL6foe9eAIIAABgGQIgAACAZQiAAAAAliEAAgAAWIYACAAAYBkCIAAAgGUIgAAAAJahBxAjjlvflU2dVn76+ryuk58+srD61UxdciOx823G4lPGsaa+PtPYU/tmGPdbUNTheU5e+/pM/YGSua/PT0dgUP2CbkzXzs/PLpt+7mF48AQQAADAMgRAAAAAyxAAAQAALEMABAAAsAwBEAAAwDIEQAAAAMtQAwP8Lz+VK0ExHTesWgg/tSqmapSw6lpMTPN1U/qZprTbDn3rJuNYUzWKqVbFVPMimc/HrULGxHTc/Fin5/2GpWlPadptXYn0NS+SVFZ9fKinAwSCJ4AAAACWIQACAABYhgAIAABgGQIgAACAZQiAAAAAliEAAgAAWCbLcRwn7Elg9Glvb1ckEtGjs7+s8WNywp5OykiscglKWDUwJkGt8UisiDFVtQSptXFK2m1uczJVyJiqTyRz1Yuf69PRkr5Wxa2Gx+txG7dUGLdPiKU/V7camNGkW91ar/VKJpMqLCwMezoYZjwBBAAAsAwBEAAAwDIEQAAAAMsQAAEAACxDAAQAALAMARAAAMAyBEAAAADLjA17ArBTUH19mdb1Z+J2rkH1BAa1xqb5BtkDaOqaMx3X1Mcn+esJ9Nr15zYnU+ee2xqb1qnhW59Kuy3I70nTnPzc/5nU9QekwxNAAAAAyxAAAQAALEMABAAAsAwBEAAAwDIEQAAAAMsQAAEAACxDDQxCYVNdS6bxU+HjtZrDVPch+auJCbJixis/VS8mBUUdabe5rbHXa+c2znTPBFVlBIAngAAAANYhAAIAAFiGAAgAAGAZAiAAAIBlCIAAAACWIQACAABYhgAIAABgGXoAMeL46f7KtH5BP517YQirt83UYRdWz5+fvj5TD6BJUF1+QRqJcwJswBNAAAAAyxAAAQAALEMABAAAsAwBEAAAwDIEQAAAAMsQAC2wfv16ZWVladWqVanXuru7VVNTo8suu0z5+flasmSJ2trawpskAAAYNtTAZLhjx47pySef1KxZswa8vnr1aj377LPatWuXIpGIVqxYoTvuuEMvvfTSRe2/7WRMecobyim71pvYVBvhp+rFNDasNQxqTgVFHZ7HeuVWuWKqn3Eb6+e4AHAheAKYwTo7O3XXXXfpqaee0qWXXpp6PZlMauvWrXrkkUc0f/58lZeXa9u2bfrP//xPHTlyJMQZAwCA4UAAzGA1NTW65ZZbVFVVNeD1eDyuc+fODXh95syZKikp0eHDh4d7mgAAYJjxK+AMtXPnTjU2NurYsWPnbUskEsrJydHEiRMHvB6NRpVIJAbdX09Pj3p6elL/bm9vH9L5AgCA4cMTwAzU3Nys++67T//0T/+kvLyh+fu8uro6RSKR1FdxcfGQ7BcAAAw/AmAGisfjOn36tMrKyjR27FiNHTtWDQ0N2rhxo8aOHatoNKre3l6dOXNmwLi2tjbFYrFB91lbW6tkMpn6am5uHoYzAQAAQeBXwBlowYIFeuWVVwa8tmzZMs2cOVN/+7d/q+LiYo0bN04HDx7UkiVLJElNTU165513VFlZOeg+c3NzlZubG/jcAQBA8AiAGaigoEDXXHPNgNcmTJigyy67LPX68uXLtWbNGk2aNEmFhYVauXKlKisrNW/evGGZYxj1Jn6OmWmCqmMJ6rr6qXnpaCkwbjft20/lSuOWirTb3NbJdFzucQBDgQBoqUcffVTZ2dlasmSJenp6tHDhQj3xxBNhTwsAAAwDAqAlDh06NODfeXl5qq+vV319fTgTAgAAoeFDIAAAAJYhAAIAAFiGAAgAAGAZAiAAAIBlCIAAAACW4VPACIWfrjkTetD8c1vDoK6diVsPoKnrz22sn64/Ez9di6ax3OMAhgJPAAEAACxDAAQAALAMARAAAMAyBEAAAADLEAABAAAsQwAEAACwDDUwyCimeg0/9SZBVW8UVZj3G1RFiR9hrIWp5kVyr3oJQxj3YhgVPQBGJ54AAgAAWIYACAAAYBkCIAAAgGUIgAAAAJYhAAIAAFiGAAgAAGAZAiAAAIBl6AEE/ldYXX9ex47EjkC3Pj7TnBu3VKTd5nZt3HoCvY41nY/bMf3cTxNi6Y9L1x+AocATQAAAAMsQAAEAACxDAAQAALAMARAAAMAyBEAAAADLEAABAAAsQw0MMkpQVS5uvNa1+KmI8cNUJeJnDd2qUUy1Kl2J9GP9VJ+4nY/Xqhe3yhsTP7U1ADAUeAIIAABgGQIgAACAZQiAAAAAliEAAgAAWIYACAAAYBkCIAAAgGWogcGoE1bVi4nXqhfTOLexfozENQyKW4WMaS38VL2YmCpvAGA48AQQAADAMgRAAAAAyxAAAQAALEMABAAAsAwBEAAAwDIEQAAAAMsQAAEAACxDDyBGHT+9el73O6Ws1Ti2tXGKp7F+9ptpTH18bl1+fpj2PSGWvgfQrSMwyDkDgF88AQQAALAMARAAAMAyBEAAAADLEAABAAAsQwAEAACwDAEQAADAMtTAIBSmyo+wmCpZTBUxF7J9pPFTl2OSadUnXYkCT9sAYKTjCSAAAIBlCIAAAACWIQACAABYhgAIAABgGQIgAACAZQiAAAAAliEAAgAAWIYeQITC1Bfn1hFo6rDz08cX31Lueb+mDsHsdenHHYulP6YktTZOMW4HAMALngACAABYhgAIAABgGQIgAACAZQiAAAAAliEAAgAAWIZPAcMTx3EkST3qGfJ9n+3r9Tz2973nAjluR2e/ceyEdsPG7vSbOs/2Gffr53xM/KyxSbfpZAGMKB/+/P7w5znskuVw5eHBu+++q+Li4rCnAQDwqbm5WVOnTg17GhhmBEB40t/fr5aWFhUUFCgrK0vt7e0qLi5Wc3OzCgsLw57eiMU6XRjW6cKwTheGdRqc4zjq6OhQUVGRsrP5izDb8CtgeJKdnT3o/2MsLCzkB+wFYJ0uDOt0YVinC8M6nS8SiYQ9BYSEyA8AAGAZAiAAAIBlCIAYErm5uXrggQeUm5sb9lRGNNbpwrBOF4Z1ujCsE3A+PgQCAABgGZ4AAgAAWIYACAAAYBkCIAAAgGUIgAAAAJYhAMK3+vp6/fEf/7Hy8vI0d+5c/dd//VfYUwrdiy++qFtvvVVFRUXKysrSj3/84wHbHcfR2rVrNWXKFI0fP15VVVV68803w5lsSOrq6vTJT35SBQUFmjx5sm6//XY1NTUNeE93d7dqamp02WWXKT8/X0uWLFFbW1tIMw7Hpk2bNGvWrFSJcWVlpX7yk5+ktrNGg1u/fr2ysrK0atWq1GusFfB/CIDw5Yc//KHWrFmjBx54QI2NjZo9e7YWLlyo06dPhz21UHV1dWn27Nmqr68fdPtDDz2kjRs3avPmzTp69KgmTJighQsXqru7e5hnGp6GhgbV1NToyJEjOnDggM6dO6ebb75ZXV1dqfesXr1ae/fu1a5du9TQ0KCWlhbdcccdIc56+E2dOlXr169XPB7X8ePHNX/+fN1222167bXXJLFGgzl27JiefPJJzZo1a8DrrBXwEQ7gw5w5c5yamprUv/v6+pyioiKnrq4uxFmNLJKc3bt3p/7d39/vxGIx5+GHH069dubMGSc3N9f553/+5xBmODKcPn3akeQ0NDQ4jvPBmowbN87ZtWtX6j2/+MUvHEnO4cOHw5rmiHDppZc6Tz/9NGs0iI6ODmf69OnOgQMHnBtvvNG57777HMfhfgL+P54AwrPe3l7F43FVVVWlXsvOzlZVVZUOHz4c4sxGtrfeekuJRGLAukUiEc2dO9fqdUsmk5KkSZMmSZLi8bjOnTs3YJ1mzpypkpISa9epr69PO3fuVFdXlyorK1mjQdTU1OiWW24ZsCYS9xPw/40NewIYvd5//3319fUpGo0OeD0ajeqNN94IaVYjXyKRkKRB1+3Dbbbp7+/XqlWrdN111+maa66R9ME65eTkaOLEiQPea+M6vfLKK6qsrFR3d7fy8/O1e/duXX311Tpx4gRr9BE7d+5UY2Ojjh07dt427idgIAIggNDV1NTo1Vdf1c9//vOwpzIilZaW6sSJE0omk/rRj36kpUuXqqGhIexpjSjNzc267777dODAAeXl5YU9HWDE41fA8OxjH/uYxowZc96n6Nra2hSLxUKa1cj34dqwbh9YsWKF9u3bpxdeeEFTp05NvR6LxdTb26szZ84MeL+N65STk6Mrr7xS5eXlqqur0+zZs/XYY4+xRh8Rj8d1+vRplZWVaezYsRo7dqwaGhq0ceNGjR07VtFolLUCPoIACM9ycnJUXl6ugwcPpl7r7+/XwYMHVVlZGeLMRrZp06YpFosNWLf29nYdPXrUqnVzHEcrVqzQ7t279fzzz2vatGkDtpeXl2vcuHED1qmpqUnvvPOOVes0mP7+fvX09LBGH7FgwQK98sorOnHiROqroqJCd911V+p/s1bA/+FXwPBlzZo1Wrp0qSoqKjRnzhxt2LBBXV1dWrZsWdhTC1VnZ6d++ctfpv791ltv6cSJE5o0aZJKSkq0atUqfec739H06dM1bdo03X///SoqKtLtt98e3qSHWU1NjXbs2KFnnnlGBQUFqb/DikQiGj9+vCKRiJYvX641a9Zo0qRJKiws1MqVK1VZWal58+aFPPvhU1tbq0WLFqmkpEQdHR3asWOHDh06pP3797NGH1FQUJD6+9EPTZgwQZdddlnqddYK+IiwP4aM0e/xxx93SkpKnJycHGfOnDnOkSNHwp5S6F544QVH0nlfS5cudRzngyqY+++/34lGo05ubq6zYMECp6mpKdxJD7PB1keSs23bttR7zp4963z1q191Lr30UueSSy5xPvvZzzqtra3hTToEd999t3PFFVc4OTk5zuWXX+4sWLDA+elPf5razhql99EaGMdhrYCPynIcxwkpewIAACAE/A0gAACAZQiAAAAAliEAAgAAWIYACAAAYBkCIAAAgGUIgAAAAJYhAAIAAFiGAAgAAGAZAiAAAIBlCIAAAACWIQACAABYhgAIAABgGQIgAACAZQiAAAAAliEAAgAAWIYACAAAYBkCIAAAgGUIgAAAAJYhAAIAAFiGAAgAAGAZAiAAAIBlCIAAAACWIQACAABYhgAIAABgGQIgAACAZQiAAAAAliEAAgAAWIYACAAAYBkCIAAAgGUIgAAAAJYhAAIAAFjmfwD9OeIVRYvxIgAAAABJRU5ErkJggg==",
            "_dom_classes": [],
            "_figure_label": "Figure 37",
            "_image_mode": "full",
            "_message": "",
            "_model_module": "jupyter-matplotlib",
            "_model_module_version": "^0.11",
            "_model_name": "MPLCanvasModel",
            "_rubberband_height": 0,
            "_rubberband_width": 0,
            "_rubberband_x": 0,
            "_rubberband_y": 0,
            "_size": [
              640,
              480
            ],
            "_view_count": null,
            "_view_module": "jupyter-matplotlib",
            "_view_module_version": "^0.11",
            "_view_name": "MPLCanvasView",
            "capture_scroll": false,
            "footer_visible": true,
            "header_visible": true,
            "layout": "IPY_MODEL_54bbaeebd2b4467d9436eea66839e1df",
            "pan_zoom_throttle": 33,
            "resizable": true,
            "toolbar": "IPY_MODEL_a82b0d5652594c6f804c60238dc50b26",
            "toolbar_position": "left",
            "toolbar_visible": "fade-in-fade-out"
          }
        },
        "54bbaeebd2b4467d9436eea66839e1df": {
          "model_module": "@jupyter-widgets/base",
          "model_name": "LayoutModel",
          "model_module_version": "1.2.0",
          "state": {
            "_model_module": "@jupyter-widgets/base",
            "_model_module_version": "1.2.0",
            "_model_name": "LayoutModel",
            "_view_count": null,
            "_view_module": "@jupyter-widgets/base",
            "_view_module_version": "1.2.0",
            "_view_name": "LayoutView",
            "align_content": null,
            "align_items": null,
            "align_self": null,
            "border": null,
            "bottom": null,
            "display": null,
            "flex": null,
            "flex_flow": null,
            "grid_area": null,
            "grid_auto_columns": null,
            "grid_auto_flow": null,
            "grid_auto_rows": null,
            "grid_column": null,
            "grid_gap": null,
            "grid_row": null,
            "grid_template_areas": null,
            "grid_template_columns": null,
            "grid_template_rows": null,
            "height": null,
            "justify_content": null,
            "justify_items": null,
            "left": null,
            "margin": null,
            "max_height": null,
            "max_width": null,
            "min_height": null,
            "min_width": null,
            "object_fit": null,
            "object_position": null,
            "order": null,
            "overflow": null,
            "overflow_x": null,
            "overflow_y": null,
            "padding": null,
            "right": null,
            "top": null,
            "visibility": null,
            "width": null
          }
        },
        "a82b0d5652594c6f804c60238dc50b26": {
          "model_module": "jupyter-matplotlib",
          "model_name": "ToolbarModel",
          "model_module_version": "^0.11",
          "state": {
            "_current_action": "",
            "_dom_classes": [],
            "_model_module": "jupyter-matplotlib",
            "_model_module_version": "^0.11",
            "_model_name": "ToolbarModel",
            "_view_count": null,
            "_view_module": "jupyter-matplotlib",
            "_view_module_version": "^0.11",
            "_view_name": "ToolbarView",
            "button_style": "",
            "collapsed": true,
            "layout": "IPY_MODEL_de1a2f0e525241079b498efa1d3579aa",
            "orientation": "vertical",
            "toolitems": [
              [
                "Home",
                "Reset original view",
                "home",
                "home"
              ],
              [
                "Back",
                "Back to previous view",
                "arrow-left",
                "back"
              ],
              [
                "Forward",
                "Forward to next view",
                "arrow-right",
                "forward"
              ],
              [
                "Pan",
                "Left button pans, Right button zooms\nx/y fixes axis, CTRL fixes aspect",
                "arrows",
                "pan"
              ],
              [
                "Zoom",
                "Zoom to rectangle\nx/y fixes axis",
                "square-o",
                "zoom"
              ],
              [
                "Download",
                "Download plot",
                "floppy-o",
                "save_figure"
              ]
            ]
          }
        },
        "de1a2f0e525241079b498efa1d3579aa": {
          "model_module": "@jupyter-widgets/base",
          "model_name": "LayoutModel",
          "model_module_version": "1.2.0",
          "state": {
            "_model_module": "@jupyter-widgets/base",
            "_model_module_version": "1.2.0",
            "_model_name": "LayoutModel",
            "_view_count": null,
            "_view_module": "@jupyter-widgets/base",
            "_view_module_version": "1.2.0",
            "_view_name": "LayoutView",
            "align_content": null,
            "align_items": null,
            "align_self": null,
            "border": null,
            "bottom": null,
            "display": null,
            "flex": null,
            "flex_flow": null,
            "grid_area": null,
            "grid_auto_columns": null,
            "grid_auto_flow": null,
            "grid_auto_rows": null,
            "grid_column": null,
            "grid_gap": null,
            "grid_row": null,
            "grid_template_areas": null,
            "grid_template_columns": null,
            "grid_template_rows": null,
            "height": null,
            "justify_content": null,
            "justify_items": null,
            "left": null,
            "margin": null,
            "max_height": null,
            "max_width": null,
            "min_height": null,
            "min_width": null,
            "object_fit": null,
            "object_position": null,
            "order": null,
            "overflow": null,
            "overflow_x": null,
            "overflow_y": null,
            "padding": null,
            "right": null,
            "top": null,
            "visibility": null,
            "width": null
          }
        }
      }
    }
  },
  "nbformat": 4,
  "nbformat_minor": 0
}